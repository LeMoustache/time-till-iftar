{
 "cells": [
  {
   "cell_type": "code",
   "execution_count": 72,
   "id": "3485adfb-e3fb-423d-b365-44d9e7f2e956",
   "metadata": {},
   "outputs": [],
   "source": [
    "from selenium import webdriver\n",
    "\n",
    "import json\n",
    "\n",
    "names = [name]\n",
    "namesDic = {}\n",
    "\n",
    "driver_Path = \"C:/Program Files (x86)/Google/chromedriver.exe\"\n",
    "driver = webdriver.Chrome(executable_path=driver_Path)\n",
    "driver.get('https://allahin99adi.allahin99ismi.com/')\n",
    "\n",
    "table = driver.find_element(By.CLASS_NAME, 'st').find_element(By.TAG_NAME, 'tbody')\n",
    "\n",
    "namesList = table.find_elements(By.TAG_NAME,'tr')\n",
    "\n",
    "for x in namesList:\n",
    "    name = dict(namesDic)\n",
    "\n",
    "    name[\"index\"] = x.find_elements(By.TAG_NAME,'td')[1].text\n",
    "    name[\"name\"] = x.find_elements(By.TAG_NAME,'td')[2].text\n",
    "    name[\"text\"] = x.find_elements(By.TAG_NAME,'td')[3].text\n",
    "\n",
    "    names.insert(-1,name)\n",
    "    \n",
    "# Serializing json\n",
    "json_object = json.dumps(names, indent=4)\n",
    " \n",
    "# Writing to sample.json\n",
    "with open(\"../database/names-az.json\", \"w\") as outfile:\n",
    "    outfile.write(json_object)"
   ]
  },
  {
   "cell_type": "code",
   "execution_count": null,
   "id": "ddf27b88-c9c1-4fbc-9ca3-71e562ca9d4a",
   "metadata": {},
   "outputs": [],
   "source": [
    "\n"
   ]
  },
  {
   "cell_type": "code",
   "execution_count": null,
   "id": "8d03ab71-b1ea-4cde-a7d4-7860ac47a79d",
   "metadata": {},
   "outputs": [],
   "source": []
  }
 ],
 "metadata": {
  "kernelspec": {
   "display_name": "Python 3 (ipykernel)",
   "language": "python",
   "name": "python3"
  },
  "language_info": {
   "codemirror_mode": {
    "name": "ipython",
    "version": 3
   },
   "file_extension": ".py",
   "mimetype": "text/x-python",
   "name": "python",
   "nbconvert_exporter": "python",
   "pygments_lexer": "ipython3",
   "version": "3.8.5"
  }
 },
 "nbformat": 4,
 "nbformat_minor": 5
}
